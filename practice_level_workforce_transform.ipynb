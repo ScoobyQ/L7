{
 "cells": [
  {
   "cell_type": "markdown",
   "id": "b4f6413a",
   "metadata": {},
   "source": [
    "#### Ref docs"
   ]
  },
  {
   "cell_type": "raw",
   "id": "0f5d7655",
   "metadata": {},
   "source": [
    "PBI Tool:\n",
    "Shows some possible groupings that could be derived (except FTE by age splits not possible with published practice level CSV)\n",
    "\n",
    "Link:\n",
    "https://app.powerbi.com/view?r=eyJrIjoiYTM4ZTA3NGItMTM2Mi00NzAwLWEyY2QtNDgyZDkxOTk3MmFlIiwidCI6IjUwZjYwNzFmLWJiZmUtNDAxYS04ODAzLTY3Mzc0OGU2MjllMiIsImMiOjh9"
   ]
  },
  {
   "cell_type": "markdown",
   "id": "0269c07c",
   "metadata": {},
   "source": [
    "#### Import libs"
   ]
  },
  {
   "cell_type": "code",
   "execution_count": 1,
   "id": "79a01544",
   "metadata": {
    "ExecuteTime": {
     "end_time": "2023-01-12T22:43:57.353662Z",
     "start_time": "2023-01-12T22:43:56.989623Z"
    }
   },
   "outputs": [],
   "source": [
    "import pandas as pd\n",
    "import re\n",
    "import numpy as np"
   ]
  },
  {
   "cell_type": "markdown",
   "id": "e2de4283",
   "metadata": {
    "code_folding": []
   },
   "source": [
    "#### Source file path"
   ]
  },
  {
   "cell_type": "code",
   "execution_count": null,
   "id": "f48942b8",
   "metadata": {},
   "outputs": [],
   "source": [
    "# Set path to folder holding two files downloaded from NHSD\n",
    "# Zip file download: https://files.digital.nhs.uk/05/D0E0F1/GPWPracticeCSV.112022.zip\n",
    "# File 1: 39. General Practice – November 2022 Individual Level.csv                     (data)\n",
    "# File 2: General Practice Practice-Level CSV. Overall Definitions.xlsx saved as CSV    (meta)\n",
    "path_to_nov22_folder = ''   ## user sets path to unzipped downloaded folder after generating meta CSV. \n",
    "                            \n",
    "if path_to_nov22_folder[-1] = '/':\n",
    "    path_to_nov22_folder = path_to_nov22_folder[:-1]  #remove trailing / in unix-style path if set above"
   ]
  },
  {
   "cell_type": "markdown",
   "id": "de80812e",
   "metadata": {
    "ExecuteTime": {
     "end_time": "2023-01-12T20:16:43.577072Z",
     "start_time": "2023-01-12T20:16:43.560074Z"
    }
   },
   "source": [
    "#### Read in files"
   ]
  },
  {
   "cell_type": "code",
   "execution_count": 2,
   "id": "7fdb91ce",
   "metadata": {
    "ExecuteTime": {
     "end_time": "2023-01-12T22:43:58.021762Z",
     "start_time": "2023-01-12T22:43:57.356616Z"
    }
   },
   "outputs": [
    {
     "name": "stderr",
     "output_type": "stream",
     "text": [
      "C:\\Users\\quent\\AppData\\Local\\Temp\\ipykernel_20492\\47386914.py:11: DtypeWarning: Columns (631,632,633,634,635,636,637,638,639,640,641,642,643,644,645,646,647,648,649,650,651,652,653,654,655,656,657,658,659,660,661,662,663,664,665,666,667,668,669,670,671,672,673,674,675,676,677,678,679,680,681,682,683,684,685,686,687,688,689,690,691,692,693,694,695,696,697,698,699,700,701,702,703,704,705,706,707,708,709,710,711,712,713,714,715,716,717,718,719,720) have mixed types. Specify dtype option on import or set low_memory=False.\n",
      "  nov_22_data = pd.read_csv(\n"
     ]
    }
   ],
   "source": [
    "nov_22_meta = pd.read_csv(\n",
    "    f\"{path_to_nov22_folder}/General Practice Practice-Level CSV. Overall Definitions.csv\",\n",
    "    dtype={\n",
    "        \"Columns\": \"string\",\n",
    "        \"Name of Field\": \"string\",\n",
    "        \"Description\": \"string\",\n",
    "        \"Comments\": \"string\",\n",
    "    },\n",
    ")\n",
    "\n",
    "nov_22_data = pd.read_csv(\n",
    "    f\"{path_to_nov22_folder}/39. General Practice – November 2022 Practice Level.csv\"\n",
    ")\n"
   ]
  },
  {
   "cell_type": "code",
   "execution_count": 3,
   "id": "9b2602e9",
   "metadata": {
    "ExecuteTime": {
     "end_time": "2023-01-12T22:43:58.037613Z",
     "start_time": "2023-01-12T22:43:58.022615Z"
    }
   },
   "outputs": [
    {
     "data": {
      "text/plain": [
       "(721, 4)"
      ]
     },
     "execution_count": 3,
     "metadata": {},
     "output_type": "execute_result"
    }
   ],
   "source": [
    "nov_22_data.shape # (6429, 721)\n",
    "nov_22_meta.shape # (721, 4)"
   ]
  },
  {
   "cell_type": "code",
   "execution_count": 4,
   "id": "408ed6a3",
   "metadata": {
    "ExecuteTime": {
     "end_time": "2023-01-12T22:43:58.052614Z",
     "start_time": "2023-01-12T22:43:58.039614Z"
    }
   },
   "outputs": [],
   "source": [
    "staff_groups = {\n",
    "    \"^.*?_GP_.*$\":\"GPs\",\n",
    "    \"^.*_NURSE_*$\":\"Nurses\",\n",
    "    \"^.*_DPC_*$\":\"Direct Patient Care\",\n",
    "    \"^.*_ADMIN_*$\":\"Admin/Non-clinical\",\n",
    "}"
   ]
  },
  {
   "cell_type": "markdown",
   "id": "1778d09c",
   "metadata": {},
   "source": [
    "#### Filter dataset to columns for desired final splits"
   ]
  },
  {
   "cell_type": "code",
   "execution_count": 5,
   "id": "276af5cf",
   "metadata": {
    "ExecuteTime": {
     "end_time": "2023-01-12T22:43:58.068615Z",
     "start_time": "2023-01-12T22:43:58.055613Z"
    }
   },
   "outputs": [],
   "source": [
    "## Options (easier) are:\n",
    "## Sex, Staff Role (contains Staff Group), Unit (FTE | Headcount)\n",
    "## Could be possible to add in age group for headcount but not FTE\n",
    "\n",
    "pat = re.compile(r'(?:^(MALE|FEMALE)_(GP|NURSE|ADMIN)_(.*?)_(HC|FTE)$)|PRAC_CODE')\n",
    "keep_cols = list(filter(pat.search, nov_22_data.columns))\n",
    "df = nov_22_data[keep_cols]"
   ]
  },
  {
   "cell_type": "code",
   "execution_count": 6,
   "id": "29a60ecb",
   "metadata": {
    "ExecuteTime": {
     "end_time": "2023-01-12T22:43:58.132617Z",
     "start_time": "2023-01-12T22:43:58.069656Z"
    }
   },
   "outputs": [],
   "source": [
    "#### Define some variables to use in transformations (id_var, name_var)\n",
    "#### Pivot longer to allow for easy derivation of job role, staff group\n",
    "id_var = 'PRAC_CODE'\n",
    "name_var = 'Name of Field'\n",
    "rename_dict = {id_var: 'location_id', \n",
    "               name_var: '_'.join(name_var.lower().split(' '))\n",
    "              }\n",
    "df = df.melt(id_vars = id_var, \n",
    "             value_vars = [i for i in keep_cols if i !=id_var], \n",
    "             var_name = name_var\n",
    "            )"
   ]
  },
  {
   "cell_type": "markdown",
   "id": "ee49f085",
   "metadata": {},
   "source": [
    "#### Derive splits from unpivoted headers"
   ]
  },
  {
   "cell_type": "code",
   "execution_count": 7,
   "id": "159b8c72",
   "metadata": {
    "ExecuteTime": {
     "end_time": "2023-01-12T22:43:59.810756Z",
     "start_time": "2023-01-12T22:43:58.135619Z"
    }
   },
   "outputs": [],
   "source": [
    "df[[\"sex\", \"staff_group\", \"staff_role\", \"unit\"]] = df[name_var].str.extract(\n",
    "    r\"(MALE|FEMALE)_(GP|NURSE|ADMIN)_(.*?)_(HC|FTE)\"\n",
    ")"
   ]
  },
  {
   "cell_type": "markdown",
   "id": "8f87afb8",
   "metadata": {
    "ExecuteTime": {
     "end_time": "2023-01-12T22:24:35.316622Z",
     "start_time": "2023-01-12T22:24:35.307591Z"
    }
   },
   "source": [
    "#### Add in description field (Optional)"
   ]
  },
  {
   "cell_type": "code",
   "execution_count": 8,
   "id": "eaacdc85",
   "metadata": {
    "ExecuteTime": {
     "end_time": "2023-01-12T22:44:00.397753Z",
     "start_time": "2023-01-12T22:43:59.812615Z"
    }
   },
   "outputs": [],
   "source": [
    "# Optional join on meta info to bring in field description\n",
    "df = df.merge(nov_22_meta[[name_var, \"Description\"]], on=name_var, how=\"left\")"
   ]
  },
  {
   "cell_type": "markdown",
   "id": "02956011",
   "metadata": {
    "ExecuteTime": {
     "end_time": "2023-01-12T22:19:58.370646Z",
     "start_time": "2023-01-12T22:19:58.361686Z"
    }
   },
   "source": [
    "#### Clean headers"
   ]
  },
  {
   "cell_type": "code",
   "execution_count": 9,
   "id": "c618da77",
   "metadata": {
    "ExecuteTime": {
     "end_time": "2023-01-12T22:44:00.413614Z",
     "start_time": "2023-01-12T22:44:00.399615Z"
    }
   },
   "outputs": [],
   "source": [
    "# This intentionally doesn't lower case the optional description field as would later be dropped\n",
    "df.rename(rename_dict, inplace=True, axis=1)"
   ]
  },
  {
   "cell_type": "markdown",
   "id": "0f44ee7b",
   "metadata": {},
   "source": [
    "#### Handling invalid data in 'value' column"
   ]
  },
  {
   "cell_type": "markdown",
   "id": "34b3cb13",
   "metadata": {
    "ExecuteTime": {
     "end_time": "2023-01-12T22:09:47.541376Z",
     "start_time": "2023-01-12T22:09:47.498330Z"
    }
   },
   "source": [
    "From _comments_ column in meta:\n",
    "\n",
    "'ND' denotes practices who have No (valid) Data in the current extraction (excluding TIS data), having not passed data quality validation rules, or where their submitted records are staff who have left or not yet joined. For practices who provided 0 records overall for this staff group in the current extraction, the cell will be populated by 0. These practices will form part of the Sub-ICB Location level estimates for their area. These practices will form part of the Sub-ICB Location level estimates for their area/\n",
    "\n",
    "example: df['value'][df['value']=='ND']"
   ]
  },
  {
   "cell_type": "code",
   "execution_count": 10,
   "id": "71071d9f",
   "metadata": {
    "ExecuteTime": {
     "end_time": "2023-01-12T22:44:00.444980Z",
     "start_time": "2023-01-12T22:44:00.414651Z"
    }
   },
   "outputs": [],
   "source": [
    "# Use np.NAN as substitution in case sum over staff groups to get totals later (versus uses -9999 etc)\n",
    "df['value'].replace(to_replace = 'ND', value = np.NaN, inplace=True)"
   ]
  },
  {
   "cell_type": "markdown",
   "id": "5eeb7e58",
   "metadata": {},
   "source": [
    "#### Convert 'value' column to float"
   ]
  },
  {
   "cell_type": "code",
   "execution_count": 11,
   "id": "de457eea",
   "metadata": {
    "ExecuteTime": {
     "end_time": "2023-01-12T22:44:00.586878Z",
     "start_time": "2023-01-12T22:44:00.446025Z"
    }
   },
   "outputs": [],
   "source": [
    "df['value'] = df['value'].astype('float')"
   ]
  },
  {
   "cell_type": "markdown",
   "id": "ded46b45",
   "metadata": {},
   "source": [
    "#### Optional inspect basic output dataset info"
   ]
  },
  {
   "cell_type": "code",
   "execution_count": 12,
   "id": "cc8839ef",
   "metadata": {
    "ExecuteTime": {
     "end_time": "2023-01-12T22:44:01.079731Z",
     "start_time": "2023-01-12T22:44:00.587742Z"
    }
   },
   "outputs": [
    {
     "name": "stdout",
     "output_type": "stream",
     "text": [
      "<class 'pandas.core.frame.DataFrame'>\n",
      "Int64Index: 642900 entries, 0 to 642899\n",
      "Data columns (total 8 columns):\n",
      " #   Column         Non-Null Count   Dtype  \n",
      "---  ------         --------------   -----  \n",
      " 0   location_id    642900 non-null  object \n",
      " 1   name_of_field  642900 non-null  object \n",
      " 2   value          641264 non-null  float64\n",
      " 3   sex            642900 non-null  object \n",
      " 4   staff_group    642900 non-null  object \n",
      " 5   staff_role     642900 non-null  object \n",
      " 6   unit           642900 non-null  object \n",
      " 7   Description    642900 non-null  string \n",
      "dtypes: float64(1), object(6), string(1)\n",
      "memory usage: 44.1+ MB\n"
     ]
    }
   ],
   "source": [
    "# name_var (e.g. name_of_field) will be dropped later but retained now for info purposes\n",
    "# description field left in just for info\n",
    "df.info()"
   ]
  },
  {
   "cell_type": "markdown",
   "id": "fdf47859",
   "metadata": {
    "ExecuteTime": {
     "end_time": "2023-01-12T22:47:29.789401Z",
     "start_time": "2023-01-12T22:47:29.779402Z"
    }
   },
   "source": [
    "#### Look at totals"
   ]
  },
  {
   "cell_type": "code",
   "execution_count": 68,
   "id": "f823d559",
   "metadata": {
    "ExecuteTime": {
     "end_time": "2023-01-12T23:48:05.019454Z",
     "start_time": "2023-01-12T23:48:05.003458Z"
    }
   },
   "outputs": [
    {
     "data": {
      "text/html": [
       "<div>\n",
       "<style scoped>\n",
       "    .dataframe tbody tr th:only-of-type {\n",
       "        vertical-align: middle;\n",
       "    }\n",
       "\n",
       "    .dataframe tbody tr th {\n",
       "        vertical-align: top;\n",
       "    }\n",
       "\n",
       "    .dataframe thead th {\n",
       "        text-align: right;\n",
       "    }\n",
       "</style>\n",
       "<table border=\"1\" class=\"dataframe\">\n",
       "  <thead>\n",
       "    <tr style=\"text-align: right;\">\n",
       "      <th></th>\n",
       "      <th>PRAC_CODE</th>\n",
       "      <th>TOTAL_GP_HC</th>\n",
       "      <th>TOTAL_GP_FTE</th>\n",
       "      <th>TOTAL_NURSES_HC</th>\n",
       "      <th>TOTAL_NURSES_FTE</th>\n",
       "      <th>TOTAL_DPC_HC</th>\n",
       "      <th>TOTAL_DPC_FTE</th>\n",
       "      <th>TOTAL_ADMIN_HC</th>\n",
       "      <th>TOTAL_ADMIN_FTE</th>\n",
       "    </tr>\n",
       "  </thead>\n",
       "  <tbody>\n",
       "    <tr>\n",
       "      <th>0</th>\n",
       "      <td>A81001</td>\n",
       "      <td>4</td>\n",
       "      <td>4.133333333</td>\n",
       "      <td>1</td>\n",
       "      <td>0.52</td>\n",
       "      <td>1</td>\n",
       "      <td>0.426666667</td>\n",
       "      <td>10</td>\n",
       "      <td>7.293333</td>\n",
       "    </tr>\n",
       "    <tr>\n",
       "      <th>1</th>\n",
       "      <td>A81002</td>\n",
       "      <td>14</td>\n",
       "      <td>11.52</td>\n",
       "      <td>8</td>\n",
       "      <td>6.986666667</td>\n",
       "      <td>5</td>\n",
       "      <td>4.493333333</td>\n",
       "      <td>36</td>\n",
       "      <td>27.826667</td>\n",
       "    </tr>\n",
       "    <tr>\n",
       "      <th>2</th>\n",
       "      <td>A81004</td>\n",
       "      <td>3</td>\n",
       "      <td>2.56</td>\n",
       "      <td>8</td>\n",
       "      <td>7.333333333</td>\n",
       "      <td>4</td>\n",
       "      <td>2.873333333</td>\n",
       "      <td>19</td>\n",
       "      <td>15.186667</td>\n",
       "    </tr>\n",
       "    <tr>\n",
       "      <th>3</th>\n",
       "      <td>A81005</td>\n",
       "      <td>9</td>\n",
       "      <td>5.973333333</td>\n",
       "      <td>5</td>\n",
       "      <td>2.16</td>\n",
       "      <td>1</td>\n",
       "      <td>0.613333333</td>\n",
       "      <td>19</td>\n",
       "      <td>12.950133</td>\n",
       "    </tr>\n",
       "    <tr>\n",
       "      <th>4</th>\n",
       "      <td>A81006</td>\n",
       "      <td>13</td>\n",
       "      <td>9.72</td>\n",
       "      <td>6</td>\n",
       "      <td>5</td>\n",
       "      <td>6</td>\n",
       "      <td>4.36</td>\n",
       "      <td>24</td>\n",
       "      <td>18.893333</td>\n",
       "    </tr>\n",
       "    <tr>\n",
       "      <th>...</th>\n",
       "      <td>...</td>\n",
       "      <td>...</td>\n",
       "      <td>...</td>\n",
       "      <td>...</td>\n",
       "      <td>...</td>\n",
       "      <td>...</td>\n",
       "      <td>...</td>\n",
       "      <td>...</td>\n",
       "      <td>...</td>\n",
       "    </tr>\n",
       "    <tr>\n",
       "      <th>6424</th>\n",
       "      <td>Y07059</td>\n",
       "      <td>7</td>\n",
       "      <td>4.457333333</td>\n",
       "      <td>11</td>\n",
       "      <td>8.68</td>\n",
       "      <td>7</td>\n",
       "      <td>5.426666667</td>\n",
       "      <td>22</td>\n",
       "      <td>15.666667</td>\n",
       "    </tr>\n",
       "    <tr>\n",
       "      <th>6425</th>\n",
       "      <td>Y07060</td>\n",
       "      <td>0</td>\n",
       "      <td>0</td>\n",
       "      <td>0</td>\n",
       "      <td>0</td>\n",
       "      <td>0</td>\n",
       "      <td>0</td>\n",
       "      <td>0</td>\n",
       "      <td>0.0</td>\n",
       "    </tr>\n",
       "    <tr>\n",
       "      <th>6426</th>\n",
       "      <td>Y07274</td>\n",
       "      <td>0</td>\n",
       "      <td>0</td>\n",
       "      <td>0</td>\n",
       "      <td>0</td>\n",
       "      <td>0</td>\n",
       "      <td>0</td>\n",
       "      <td>0</td>\n",
       "      <td>0.0</td>\n",
       "    </tr>\n",
       "    <tr>\n",
       "      <th>6427</th>\n",
       "      <td>Y07275</td>\n",
       "      <td>1</td>\n",
       "      <td>1.066666667</td>\n",
       "      <td>0</td>\n",
       "      <td>0</td>\n",
       "      <td>1</td>\n",
       "      <td>0.213333333</td>\n",
       "      <td>3</td>\n",
       "      <td>2.52</td>\n",
       "    </tr>\n",
       "    <tr>\n",
       "      <th>6428</th>\n",
       "      <td>Y07697</td>\n",
       "      <td>0</td>\n",
       "      <td>0</td>\n",
       "      <td>0</td>\n",
       "      <td>0</td>\n",
       "      <td>0</td>\n",
       "      <td>0</td>\n",
       "      <td>0</td>\n",
       "      <td>0.0</td>\n",
       "    </tr>\n",
       "  </tbody>\n",
       "</table>\n",
       "<p>6429 rows × 9 columns</p>\n",
       "</div>"
      ],
      "text/plain": [
       "     PRAC_CODE TOTAL_GP_HC TOTAL_GP_FTE TOTAL_NURSES_HC TOTAL_NURSES_FTE  \\\n",
       "0       A81001           4  4.133333333               1             0.52   \n",
       "1       A81002          14        11.52               8      6.986666667   \n",
       "2       A81004           3         2.56               8      7.333333333   \n",
       "3       A81005           9  5.973333333               5             2.16   \n",
       "4       A81006          13         9.72               6                5   \n",
       "...        ...         ...          ...             ...              ...   \n",
       "6424    Y07059           7  4.457333333              11             8.68   \n",
       "6425    Y07060           0            0               0                0   \n",
       "6426    Y07274           0            0               0                0   \n",
       "6427    Y07275           1  1.066666667               0                0   \n",
       "6428    Y07697           0            0               0                0   \n",
       "\n",
       "     TOTAL_DPC_HC TOTAL_DPC_FTE TOTAL_ADMIN_HC TOTAL_ADMIN_FTE  \n",
       "0               1   0.426666667             10        7.293333  \n",
       "1               5   4.493333333             36       27.826667  \n",
       "2               4   2.873333333             19       15.186667  \n",
       "3               1   0.613333333             19       12.950133  \n",
       "4               6          4.36             24       18.893333  \n",
       "...           ...           ...            ...             ...  \n",
       "6424            7   5.426666667             22       15.666667  \n",
       "6425            0             0              0             0.0  \n",
       "6426            0             0              0             0.0  \n",
       "6427            1   0.213333333              3            2.52  \n",
       "6428            0             0              0             0.0  \n",
       "\n",
       "[6429 rows x 9 columns]"
      ]
     },
     "execution_count": 68,
     "metadata": {},
     "output_type": "execute_result"
    }
   ],
   "source": [
    "pat_staff_group_totals = re.compile(r'^TOTAL_(?:GP|NURSES|DPC|ADMIN)_(?:FTE|HC)$|{0}'.format(id_var))\n",
    "keep_cols_staff_group_totals = list(filter(pat_staff_group_totals.search, nov_22_data.columns))\n",
    "df_totals = nov_22_data[keep_cols_staff_group_totals]\n",
    "df_totals"
   ]
  },
  {
   "cell_type": "markdown",
   "id": "90f25890",
   "metadata": {
    "ExecuteTime": {
     "end_time": "2023-01-12T23:48:48.222453Z",
     "start_time": "2023-01-12T23:48:48.212466Z"
    }
   },
   "source": [
    "#### TODO Transform totals and merge with df"
   ]
  }
 ],
 "metadata": {
  "kernelspec": {
   "display_name": "Python 3 (ipykernel)",
   "language": "python",
   "name": "python3"
  },
  "language_info": {
   "codemirror_mode": {
    "name": "ipython",
    "version": 3
   },
   "file_extension": ".py",
   "mimetype": "text/x-python",
   "name": "python",
   "nbconvert_exporter": "python",
   "pygments_lexer": "ipython3",
   "version": "3.9.0"
  },
  "toc": {
   "base_numbering": 1,
   "nav_menu": {},
   "number_sections": true,
   "sideBar": true,
   "skip_h1_title": false,
   "title_cell": "Table of Contents",
   "title_sidebar": "Contents",
   "toc_cell": false,
   "toc_position": {},
   "toc_section_display": true,
   "toc_window_display": false
  }
 },
 "nbformat": 4,
 "nbformat_minor": 5
}
